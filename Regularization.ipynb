{
  "nbformat": 4,
  "nbformat_minor": 0,
  "metadata": {
    "colab": {
      "name": "Regularization.ipynb",
      "provenance": [],
      "authorship_tag": "ABX9TyN/oo4MXe5dy7j7p4hcmjQL",
      "include_colab_link": true
    },
    "kernelspec": {
      "name": "python3",
      "display_name": "Python 3"
    },
    "language_info": {
      "name": "python"
    }
  },
  "cells": [
    {
      "cell_type": "markdown",
      "metadata": {
        "id": "view-in-github",
        "colab_type": "text"
      },
      "source": [
        "<a href=\"https://colab.research.google.com/github/bhattaraijay05/dl/blob/main/Regularization.ipynb\" target=\"_parent\"><img src=\"https://colab.research.google.com/assets/colab-badge.svg\" alt=\"Open In Colab\"/></a>"
      ]
    },
    {
      "cell_type": "code",
      "execution_count": 1,
      "metadata": {
        "id": "GpYM1LlSeAEp"
      },
      "outputs": [],
      "source": [
        "import numpy as np\n",
        "import matplotlib.pyplot as plt\n",
        "from sklearn.datasets import make_moons\n",
        "import seaborn as sns\n",
        "from mlxtend.plotting import plot_decision_regions\n",
        "import tensorflow\n",
        "from tensorflow.keras.models import Sequential\n",
        "from tensorflow.keras.layers import Dense\n",
        "from tensorflow.keras.layers import Dropout\n",
        "from tensorflow.keras.optimizers import Adam"
      ]
    },
    {
      "cell_type": "code",
      "source": [
        "X, y = make_moons(100, noise=0.25,random_state=2)\n",
        "import matplotlib.pyplot as plt\n",
        "plt.scatter(X[:,0], X[:,1], c=y)\n",
        "plt.show()"
      ],
      "metadata": {
        "colab": {
          "base_uri": "https://localhost:8080/",
          "height": 265
        },
        "id": "G2qK1ooQeAa2",
        "outputId": "261b539c-b451-4782-af4b-186029ac70e1"
      },
      "execution_count": 2,
      "outputs": [
        {
          "output_type": "display_data",
          "data": {
            "text/plain": [
              "<Figure size 432x288 with 1 Axes>"
            ],
            "image/png": "[encoded data removed]"
          },
          "metadata": {
            "needs_background": "light"
          }
        }
      ]
    },
    {
      "cell_type": "code",
      "source": [
        "X"
      ],
      "metadata": {
        "colab": {
          "base_uri": "https://localhost:8080/"
        },
        "id": "ms7dj72vfHlV",
        "outputId": "96b72873-d2c8-4896-ee9a-4a4b20e873fb"
      },
      "execution_count": 15,
      "outputs": [
        {
          "output_type": "execute_result",
          "data": {
            "text/plain": [
              "array([[ 1.04051282e+00, -2.33491352e-02],\n",
              "       [-5.54741398e-01,  1.27013832e+00],\n",
              "       [-7.23715066e-02, -1.77901205e-01],\n",
              "       [-4.71961272e-02,  1.21883595e+00],\n",
              "       [ 9.13794475e-01,  8.59883240e-01],\n",
              "       [ 5.41150127e-01,  6.95140255e-01],\n",
              "       [ 7.03026094e-01, -2.57985072e-01],\n",
              "       [-1.33401091e-01,  1.06959481e+00],\n",
              "       [-1.14287718e-01,  8.97688273e-01],\n",
              "       [ 1.01150903e+00,  8.49916582e-01],\n",
              "       [ 2.12537198e+00,  5.08605794e-01],\n",
              "       [ 1.70010780e+00,  7.16265767e-01],\n",
              "       [ 1.55439712e+00, -8.60585592e-01],\n",
              "       [ 5.55027808e-01,  5.76836247e-01],\n",
              "       [ 1.15481964e+00, -1.43219905e-01],\n",
              "       [ 2.86145607e-01,  1.32282616e+00],\n",
              "       [ 4.89545211e-01,  2.91536879e-01],\n",
              "       [-6.67796665e-01,  7.81730273e-01],\n",
              "       [ 2.23453555e-01,  3.34602767e-02],\n",
              "       [ 1.18698241e+00, -3.39029325e-01],\n",
              "       [-6.08507947e-01,  4.54265298e-01],\n",
              "       [ 8.29543872e-01,  7.39089646e-01],\n",
              "       [ 1.13299058e+00, -2.62270185e-01],\n",
              "       [-1.12560445e+00,  2.03362700e-01],\n",
              "       [ 3.77786505e-01, -4.78111325e-01],\n",
              "       [ 8.34495968e-01,  1.77043692e-01],\n",
              "       [ 9.57043344e-02,  1.19459629e+00],\n",
              "       [ 1.19522044e+00, -6.16782933e-01],\n",
              "       [ 1.18542363e+00, -6.48091786e-01],\n",
              "       [ 1.91627097e-01, -1.87110063e-01],\n",
              "       [ 6.22682437e-01, -3.72074177e-01],\n",
              "       [ 8.79211410e-01,  5.14357967e-02],\n",
              "       [ 8.95362308e-01,  5.41563102e-01],\n",
              "       [-1.00362683e+00,  1.07420269e-01],\n",
              "       [-4.47824943e-01,  6.57513370e-01],\n",
              "       [ 1.64485101e+00, -5.00812401e-01],\n",
              "       [ 7.29445567e-01,  6.59944446e-01],\n",
              "       [ 1.60472144e+00,  4.91231435e-02],\n",
              "       [ 1.75869321e+00,  1.62088638e-01],\n",
              "       [ 1.09122040e+00,  8.92641380e-01],\n",
              "       [ 6.91751956e-01,  7.53285163e-01],\n",
              "       [-2.58782726e-02,  7.37520222e-01],\n",
              "       [ 1.80741264e+00, -2.86834575e-01],\n",
              "       [-4.95000415e-01,  3.89999668e-01],\n",
              "       [ 2.01301078e+00,  9.21778856e-02],\n",
              "       [-1.44618410e-01,  1.04564767e+00],\n",
              "       [ 6.24316345e-01,  8.92858486e-01],\n",
              "       [ 2.84819150e-03,  9.70205594e-01],\n",
              "       [ 1.04333502e-01,  2.58784693e-01],\n",
              "       [ 1.83056431e-01, -3.34019660e-01],\n",
              "       [ 1.19564784e+00,  4.58513443e-01],\n",
              "       [ 2.29116466e+00,  5.77794312e-01],\n",
              "       [ 6.87067347e-01,  4.23905408e-01],\n",
              "       [-1.54043888e-02, -7.88659801e-02],\n",
              "       [ 5.28705641e-02, -1.75786782e-03],\n",
              "       [-9.77916874e-01,  6.66335364e-01],\n",
              "       [ 6.62257226e-01, -4.75461888e-01],\n",
              "       [-5.99636337e-01,  1.23504535e-01],\n",
              "       [ 2.15329110e+00,  2.70761444e-01],\n",
              "       [ 1.25365994e+00,  8.41680190e-02],\n",
              "       [ 7.04598129e-01, -5.53171846e-01],\n",
              "       [ 2.07120342e+00,  1.65333096e-01],\n",
              "       [ 1.98170773e+00, -2.31515937e-01],\n",
              "       [ 2.30837984e+00,  1.06501489e-01],\n",
              "       [ 1.36510669e+00, -8.37211186e-02],\n",
              "       [ 1.27119072e+00, -3.42505762e-02],\n",
              "       [-1.37132679e-01,  3.18439606e-01],\n",
              "       [-1.72593644e-01,  7.46298134e-01],\n",
              "       [ 8.44953237e-01, -5.30737164e-01],\n",
              "       [ 1.67314478e+00, -4.90941630e-01],\n",
              "       [ 9.00438096e-01, -3.44042774e-01],\n",
              "       [-1.30267843e+00, -1.59490015e-01],\n",
              "       [ 3.49786129e-01, -8.42658546e-01],\n",
              "       [ 9.11263136e-01, -4.26072656e-01],\n",
              "       [ 1.53227356e+00, -6.02610451e-01],\n",
              "       [ 2.67925537e-01, -1.07982583e-01],\n",
              "       [-5.84416822e-01,  6.59151277e-01],\n",
              "       [-9.63542081e-01,  1.26266905e+00],\n",
              "       [ 7.28217287e-02,  4.15760049e-01],\n",
              "       [-1.49821021e+00,  6.32861098e-01],\n",
              "       [ 9.43331071e-01,  9.59920313e-02],\n",
              "       [ 2.94473136e-01, -5.82517607e-01],\n",
              "       [-1.01625426e+00,  7.63014586e-01],\n",
              "       [-5.61742417e-01,  4.49437523e-01],\n",
              "       [ 1.33142744e-01,  8.52475006e-01],\n",
              "       [-2.38044211e-01,  6.48854046e-01],\n",
              "       [ 9.68854408e-01, -4.65120493e-01],\n",
              "       [-1.25172176e+00,  6.85787241e-02],\n",
              "       [ 1.40296232e+00, -3.86856668e-01],\n",
              "       [ 1.85157617e+00,  4.16403243e-01],\n",
              "       [-9.32956377e-01, -4.45040468e-02],\n",
              "       [-6.56375714e-01,  3.36203608e-01],\n",
              "       [ 1.07824617e+00,  1.90439521e-01],\n",
              "       [ 8.14837858e-01, -5.26847459e-01],\n",
              "       [ 9.49587185e-01, -3.49531832e-01],\n",
              "       [-8.27320508e-01,  5.23439288e-01],\n",
              "       [ 4.91262118e-01,  8.07694062e-01],\n",
              "       [ 2.20451351e-01, -4.47797572e-01],\n",
              "       [ 7.60368592e-01,  6.70700681e-01],\n",
              "       [-6.63931219e-01,  7.04449526e-01]])"
            ]
          },
          "metadata": {},
          "execution_count": 15
        }
      ]
    },
    {
      "cell_type": "code",
      "source": [
        "model1 = Sequential()\n",
        "model1.add(Dense(128,input_dim=2, activation=\"relu\"))\n",
        "model1.add(Dense(128, activation=\"relu\"))\n",
        "model1.add(Dense(1,activation='sigmoid'))\n",
        "model1.summary()"
      ],
      "metadata": {
        "colab": {
          "base_uri": "https://localhost:8080/"
        },
        "id": "SLdaqYmeeB7s",
        "outputId": "4ef414aa-139b-4ce0-eff7-4c9533f7a0b7"
      },
      "execution_count": 3,
      "outputs": [
        {
          "output_type": "stream",
          "name": "stdout",
          "text": [
            "Model: \"sequential\"\n",
            "_________________________________________________________________\n",
            " Layer (type)                Output Shape              Param #   \n",
            "=================================================================\n",
            " dense (Dense)               (None, 128)               384       \n",
            "                                                                 \n",
            " dense_1 (Dense)             (None, 128)               16512     \n",
            "                                                                 \n",
            " dense_2 (Dense)             (None, 1)                 129       \n",
            "                                                                 \n",
            "=================================================================\n",
            "Total params: 17,025\n",
            "Trainable params: 17,025\n",
            "Non-trainable params: 0\n",
            "_________________________________________________________________\n"
          ]
        }
      ]
    },
    {
      "cell_type": "code",
      "source": [
        "adam = Adam(learning_rate=0.01)\n",
        "model1.compile(loss='binary_crossentropy', optimizer=adam,\n",
        "metrics=['accuracy'])\n",
        "history1 = model1.fit(X, y, epochs=2000, validation_split =\n",
        "0.2,verbose=0)\n",
        "plot_decision_regions(X, y.astype('int'), clf=model1, legend=2)\n",
        "plt.xlim(-2,3)\n",
        "plt.ylim(-1.5,2)\n",
        "plt.show()"
      ],
      "metadata": {
        "colab": {
          "base_uri": "https://localhost:8080/",
          "height": 305
        },
        "id": "il0ujlz4eDZ5",
        "outputId": "75a15689-3ccf-4e67-cb24-ee269789ee80"
      },
      "execution_count": 4,
      "outputs": [
        {
          "output_type": "stream",
          "name": "stderr",
          "text": [
            "/usr/local/lib/python3.7/dist-packages/mlxtend/plotting/decision_regions.py:244: MatplotlibDeprecationWarning: Passing unsupported keyword arguments to axis() will raise a TypeError in 3.3.\n",
            "  ax.axis(xmin=xx.min(), xmax=xx.max(), y_min=yy.min(), y_max=yy.max())\n"
          ]
        },
        {
          "output_type": "display_data",
          "data": {
            "text/plain": [
              "<Figure size 432x288 with 1 Axes>"
            ],
            "image/png": "[encoded data removed]"
          },
          "metadata": {
            "needs_background": "light"
          }
        }
      ]
    },
    {
      "cell_type": "code",
      "source": [
        "plt.plot(history1.history['loss'])\n",
        "plt.plot(history1.history['val_loss'])"
      ],
      "metadata": {
        "colab": {
          "base_uri": "https://localhost:8080/",
          "height": 283
        },
        "id": "4GYAwFPseFVv",
        "outputId": "28934b00-dc53-4a20-cb6e-f6ffdb29a7b2"
      },
      "execution_count": 5,
      "outputs": [
        {
          "output_type": "execute_result",
          "data": {
            "text/plain": [
              "[<matplotlib.lines.Line2D at 0x7f9102f07450>]"
            ]
          },
          "metadata": {},
          "execution_count": 5
        },
        {
          "output_type": "display_data",
          "data": {
            "text/plain": [
              "<Figure size 432x288 with 1 Axes>"
            ],
            "image/png": "[encoded data removed]"
          },
          "metadata": {
            "needs_background": "light"
          }
        }
      ]
    },
    {
      "cell_type": "code",
      "source": [
        "model2 = Sequential()\n",
        "model2.add(Dense(128,input_dim=2,\n",
        "activation=\"relu\",kernel_regularizer=tensorflow.keras.regularizers.l1(\n",
        "0.001)))\n",
        "model2.add(Dense(128,\n",
        "activation=\"relu\",kernel_regularizer=tensorflow.keras.regularizers.l1(\n",
        "0.001)))\n",
        "model2.add(Dense(1,activation='sigmoid'))\n",
        "model2.summary()"
      ],
      "metadata": {
        "colab": {
          "base_uri": "https://localhost:8080/"
        },
        "id": "lE5Gf535eHYa",
        "outputId": "22fc427f-277a-46fd-9017-353d5234f329"
      },
      "execution_count": 6,
      "outputs": [
        {
          "output_type": "stream",
          "name": "stdout",
          "text": [
            "Model: \"sequential_1\"\n",
            "_________________________________________________________________\n",
            " Layer (type)                Output Shape              Param #   \n",
            "=================================================================\n",
            " dense_3 (Dense)             (None, 128)               384       \n",
            "                                                                 \n",
            " dense_4 (Dense)             (None, 128)               16512     \n",
            "                                                                 \n",
            " dense_5 (Dense)             (None, 1)                 129       \n",
            "                                                                 \n",
            "=================================================================\n",
            "Total params: 17,025\n",
            "Trainable params: 17,025\n",
            "Non-trainable params: 0\n",
            "_________________________________________________________________\n"
          ]
        }
      ]
    },
    {
      "cell_type": "code",
      "source": [
        "adam = Adam(learning_rate=0.01)\n",
        "model2.compile(loss='binary_crossentropy', optimizer=adam,\n",
        "metrics=['accuracy'])\n",
        "history2 = model2.fit(X, y, epochs=2000, validation_split =\n",
        "0.2,verbose=0)\n",
        "plot_decision_regions(X, y.astype('int'), clf=model2, legend=2)\n",
        "plt.xlim(-2,3)\n",
        "plt.ylim(-1.5,2)\n",
        "plt.show()"
      ],
      "metadata": {
        "colab": {
          "base_uri": "https://localhost:8080/",
          "height": 305
        },
        "id": "5Oi6Q6-WeJMY",
        "outputId": "af07c2a7-68cd-4f53-b091-58a941aa2a93"
      },
      "execution_count": 7,
      "outputs": [
        {
          "output_type": "stream",
          "name": "stderr",
          "text": [
            "/usr/local/lib/python3.7/dist-packages/mlxtend/plotting/decision_regions.py:244: MatplotlibDeprecationWarning: Passing unsupported keyword arguments to axis() will raise a TypeError in 3.3.\n",
            "  ax.axis(xmin=xx.min(), xmax=xx.max(), y_min=yy.min(), y_max=yy.max())\n"
          ]
        },
        {
          "output_type": "display_data",
          "data": {
            "text/plain": [
              "<Figure size 432x288 with 1 Axes>"
            ],
            "image/png": "[encoded data removed]"
          },
          "metadata": {
            "needs_background": "light"
          }
        }
      ]
    },
    {
      "cell_type": "code",
      "source": [
        "plt.plot(history2.history['loss'])\n",
        "plt.plot(history2.history['val_loss'])"
      ],
      "metadata": {
        "colab": {
          "base_uri": "https://localhost:8080/",
          "height": 283
        },
        "id": "9hVH-KWzeLV-",
        "outputId": "07178247-d35d-4bf5-ed7a-063fe4385e6a"
      },
      "execution_count": 8,
      "outputs": [
        {
          "output_type": "execute_result",
          "data": {
            "text/plain": [
              "[<matplotlib.lines.Line2D at 0x7f9102d66d90>]"
            ]
          },
          "metadata": {},
          "execution_count": 8
        },
        {
          "output_type": "display_data",
          "data": {
            "text/plain": [
              "<Figure size 432x288 with 1 Axes>"
            ],
            "image/png": "[encoded data removed]"
          },
          "metadata": {
            "needs_background": "light"
          }
        }
      ]
    },
    {
      "cell_type": "code",
      "source": [
        "model1_weight_layer1 = model1.get_weights()[0].reshape(256)\n",
        "model2_weight_layer1 = model2.get_weights()[0].reshape(256)\n",
        "sns.boxplot(model1_weight_layer1)"
      ],
      "metadata": {
        "colab": {
          "base_uri": "https://localhost:8080/",
          "height": 339
        },
        "id": "Ammj-KL7eNTN",
        "outputId": "927e7b11-476c-4a78-e82b-df10b6163ddf"
      },
      "execution_count": 9,
      "outputs": [
        {
          "output_type": "stream",
          "name": "stderr",
          "text": [
            "/usr/local/lib/python3.7/dist-packages/seaborn/_decorators.py:43: FutureWarning: Pass the following variable as a keyword arg: x. From version 0.12, the only valid positional argument will be `data`, and passing other arguments without an explicit keyword will result in an error or misinterpretation.\n",
            "  FutureWarning\n"
          ]
        },
        {
          "output_type": "execute_result",
          "data": {
            "text/plain": [
              "<matplotlib.axes._subplots.AxesSubplot at 0x7f9102d71b50>"
            ]
          },
          "metadata": {},
          "execution_count": 9
        },
        {
          "output_type": "display_data",
          "data": {
            "text/plain": [
              "<Figure size 432x288 with 1 Axes>"
            ],
            "image/png": "[encoded data removed]"
          },
          "metadata": {
            "needs_background": "light"
          }
        }
      ]
    },
    {
      "cell_type": "code",
      "source": [
        "sns.boxplot(model2_weight_layer1)"
      ],
      "metadata": {
        "colab": {
          "base_uri": "https://localhost:8080/",
          "height": 339
        },
        "id": "Veu0GfVgePAl",
        "outputId": "37a2a231-f520-4397-ab4d-0d9a8f5b5e9b"
      },
      "execution_count": 10,
      "outputs": [
        {
          "output_type": "stream",
          "name": "stderr",
          "text": [
            "/usr/local/lib/python3.7/dist-packages/seaborn/_decorators.py:43: FutureWarning: Pass the following variable as a keyword arg: x. From version 0.12, the only valid positional argument will be `data`, and passing other arguments without an explicit keyword will result in an error or misinterpretation.\n",
            "  FutureWarning\n"
          ]
        },
        {
          "output_type": "execute_result",
          "data": {
            "text/plain": [
              "<matplotlib.axes._subplots.AxesSubplot at 0x7f9102c9e310>"
            ]
          },
          "metadata": {},
          "execution_count": 10
        },
        {
          "output_type": "display_data",
          "data": {
            "text/plain": [
              "<Figure size 432x288 with 1 Axes>"
            ],
            "image/png": "[encoded data removed]"
          },
          "metadata": {
            "needs_background": "light"
          }
        }
      ]
    },
    {
      "cell_type": "code",
      "source": [
        "model1_weight_layer1.min()"
      ],
      "metadata": {
        "colab": {
          "base_uri": "https://localhost:8080/"
        },
        "id": "XRmo7TXoeRJB",
        "outputId": "55f1aa85-4644-4841-f370-5883daeb0582"
      },
      "execution_count": 11,
      "outputs": [
        {
          "output_type": "execute_result",
          "data": {
            "text/plain": [
              "-2.50488"
            ]
          },
          "metadata": {},
          "execution_count": 11
        }
      ]
    },
    {
      "cell_type": "code",
      "source": [
        "model2_weight_layer1.min()"
      ],
      "metadata": {
        "colab": {
          "base_uri": "https://localhost:8080/"
        },
        "id": "3aAYo3aMeTCU",
        "outputId": "5c91556b-2b33-4aeb-a7ef-c688b57aa014"
      },
      "execution_count": 12,
      "outputs": [
        {
          "output_type": "execute_result",
          "data": {
            "text/plain": [
              "-2.066341"
            ]
          },
          "metadata": {},
          "execution_count": 12
        }
      ]
    },
    {
      "cell_type": "code",
      "source": [
        "sns.distplot(model1_weight_layer1)\n",
        "sns.distplot(model2_weight_layer1)"
      ],
      "metadata": {
        "colab": {
          "base_uri": "https://localhost:8080/",
          "height": 374
        },
        "id": "WDZRLEHbeUO7",
        "outputId": "e8a2c72f-7fd5-432b-fd5d-d59a0af605a4"
      },
      "execution_count": 13,
      "outputs": [
        {
          "output_type": "stream",
          "name": "stderr",
          "text": [
            "/usr/local/lib/python3.7/dist-packages/seaborn/distributions.py:2619: FutureWarning: `distplot` is a deprecated function and will be removed in a future version. Please adapt your code to use either `displot` (a figure-level function with similar flexibility) or `histplot` (an axes-level function for histograms).\n",
            "  warnings.warn(msg, FutureWarning)\n",
            "/usr/local/lib/python3.7/dist-packages/seaborn/distributions.py:2619: FutureWarning: `distplot` is a deprecated function and will be removed in a future version. Please adapt your code to use either `displot` (a figure-level function with similar flexibility) or `histplot` (an axes-level function for histograms).\n",
            "  warnings.warn(msg, FutureWarning)\n"
          ]
        },
        {
          "output_type": "execute_result",
          "data": {
            "text/plain": [
              "<matplotlib.axes._subplots.AxesSubplot at 0x7f9102bd2950>"
            ]
          },
          "metadata": {},
          "execution_count": 13
        },
        {
          "output_type": "display_data",
          "data": {
            "text/plain": [
              "<Figure size 432x288 with 1 Axes>"
            ],
            "image/png": "[encoded data removed]"
          },
          "metadata": {
            "needs_background": "light"
          }
        }
      ]
    },
    {
      "cell_type": "code",
      "source": [
        "model1.get_weights()[0].reshape(256)"
      ],
      "metadata": {
        "colab": {
          "base_uri": "https://localhost:8080/"
        },
        "id": "CUc6mfdreVp8",
        "outputId": "75671f10-5bfe-459b-ca95-54003758da9f"
      },
      "execution_count": 14,
      "outputs": [
        {
          "output_type": "execute_result",
          "data": {
            "text/plain": [
              "array([ 0.02635203,  0.2464418 , -0.18277076, -0.5087199 ,  0.18149906,\n",
              "        0.07592808,  0.19966184, -0.03048778, -0.2577081 ,  0.05883667,\n",
              "        0.33358636, -0.53091407, -0.24079902, -0.40928805, -0.51386374,\n",
              "       -0.43037382,  0.23679823, -0.38538748,  0.27369693,  0.14545247,\n",
              "        0.19278839,  0.25574127,  0.29896513,  0.30180854,  0.24759078,\n",
              "       -0.20675837, -0.12781411,  0.17733988, -0.32155934, -0.454793  ,\n",
              "        0.34077963,  0.14372344,  0.21354759,  0.12794298, -0.44687054,\n",
              "       -0.5867065 ,  0.2505457 ,  0.08167863, -0.45588925, -0.51083404,\n",
              "       -0.05378824, -0.10460271,  0.19758424, -0.40307057, -0.57870877,\n",
              "       -0.5745486 ,  0.29349616,  0.27752253,  0.26503298, -0.12887816,\n",
              "       -0.59484476,  0.27724504,  0.1453619 , -0.23133765,  0.12200242,\n",
              "       -0.12487302, -0.09808929,  0.23968178,  0.25283673,  0.19939794,\n",
              "       -0.401905  , -0.30049226, -0.21639627, -0.03337451, -0.18151721,\n",
              "       -0.03777719,  0.12436198,  0.22964838,  0.08198209, -0.12600632,\n",
              "        0.16735509,  0.17195079,  0.11140174, -0.2173618 ,  0.12906602,\n",
              "        0.2596729 , -0.5030869 , -0.3402711 , -0.37021023,  0.06375679,\n",
              "        0.41723445, -0.01679539, -0.24596308, -0.04328365,  0.14567997,\n",
              "        0.09837081, -0.60612565,  0.27817053,  0.27621627, -0.49255222,\n",
              "       -0.23463206,  0.17160614, -0.58190084,  0.25424513, -0.25466228,\n",
              "        0.0177224 , -0.07963538,  0.1907855 ,  0.08742693,  0.10575806,\n",
              "       -0.2098486 , -0.6526559 , -0.03636448,  0.13719815,  0.26016536,\n",
              "       -0.5510429 , -0.43415082,  0.1311381 ,  0.11989018, -0.78108656,\n",
              "       -0.2652465 ,  0.07114264, -0.561082  ,  0.256912  , -0.11617454,\n",
              "        0.31040853, -0.4826026 ,  0.17651376,  0.19646361,  0.16675119,\n",
              "        0.14440267,  0.13529482, -0.4961379 ,  0.15474403, -0.4831098 ,\n",
              "       -0.5088242 , -0.5169096 ,  0.1615024 ,  0.76814765,  0.11643811,\n",
              "        0.26092842, -0.09588723, -0.10761785, -1.1160151 , -0.15889691,\n",
              "       -0.09183962,  0.3696945 , -1.14462   ,  1.1601112 , -0.04254702,\n",
              "        0.3453501 ,  0.22779493, -0.08981941,  0.23965819, -0.1383527 ,\n",
              "       -0.7324476 , -0.26027107, -0.06258031, -0.109645  , -0.2557483 ,\n",
              "       -0.2559299 ,  0.16341531,  1.0959562 ,  0.30514434, -2.50488   ,\n",
              "        0.02506087,  0.04697169, -0.03392192,  0.15295042,  1.2326831 ,\n",
              "        0.10177284,  1.9965955 ,  0.18742459, -0.02400007, -0.24275269,\n",
              "       -1.1283326 , -0.07668281, -0.0883516 , -0.03509249, -0.6488524 ,\n",
              "       -0.09451944, -0.06601258, -0.10380141, -0.09281783, -0.2752036 ,\n",
              "       -0.24955654,  0.121898  ,  0.35414198, -0.09978149, -0.26098636,\n",
              "        0.2082709 ,  0.32993013,  0.27910668,  0.16602212, -0.3790665 ,\n",
              "        0.11245529, -0.23559806, -0.11154544,  0.13022046,  0.04143979,\n",
              "        0.31372452, -0.01505957, -0.43596533,  0.5338221 ,  0.8444396 ,\n",
              "        0.12425285, -1.070612  ,  0.36864457,  0.31964034, -0.0115912 ,\n",
              "        0.28591484,  0.31783855, -0.05599024,  0.11936459, -0.03841734,\n",
              "        0.04207482,  0.21546768, -1.075162  ,  0.70159835, -0.32818985,\n",
              "        0.35484725,  0.34809384,  0.10192796, -0.10872754, -0.09224754,\n",
              "        0.14223777, -0.26824018, -0.04994282,  0.33884987,  0.33788472,\n",
              "       -0.07507383, -0.254157  , -0.41518572,  0.6228973 , -0.5200986 ,\n",
              "       -0.10997888,  0.297509  , -0.10802839,  0.30582118, -0.06731696,\n",
              "        0.28369373, -0.06142494, -0.2634115 , -0.08325136,  0.17834783,\n",
              "        0.07396528, -0.6103263 , -0.898189  , -0.55343175, -1.1877277 ,\n",
              "       -0.09092358, -0.2551147 , -2.1526399 , -0.2781953 , -0.09507298,\n",
              "        0.09489977, -0.11970764,  0.27894083, -0.02419763,  0.16008599,\n",
              "       -0.08677576, -0.05290388, -0.09628925, -0.09744957, -0.07579666,\n",
              "       -0.02858511], dtype=float32)"
            ]
          },
          "metadata": {},
          "execution_count": 14
        }
      ]
    },
    {
      "cell_type": "code",
      "source": [
        ""
      ],
      "metadata": {
        "id": "NiVN0LL_eXeQ"
      },
      "execution_count": null,
      "outputs": []
    }
  ]
}